{
 "cells": [
  {
   "cell_type": "markdown",
   "metadata": {},
   "source": [
    "# Annotated XML files to plain text\n",
    "\n",
    "This tutorial aims to explain how to translate from annotated XML files obtained from [Whatizit](https://github.com/zbmed-semtec/whatizit-dictionary-ner) to plain text. The translation converts the tagged concepts by the dictionary to its corresponding MeSH ID."
   ]
  },
  {
   "cell_type": "markdown",
   "metadata": {},
   "source": [
    "# Prerequisites\n",
    "\n",
    "1. Annotated XML files. On how to obtain them, please follow instructuions [here](https://github.com/zbmed-semtec/whatizit-dictionary-ner/tree/main/docs)."
   ]
  },
  {
   "cell_type": "markdown",
   "metadata": {},
   "source": [
    "# Steps\n",
    "\n",
    "## Step 1:\n",
    "\n",
    "Import the necessary class to process the files:"
   ]
  },
  {
   "cell_type": "code",
   "execution_count": 1,
   "metadata": {},
   "outputs": [],
   "source": [
    "import sys\n",
    "sys.path.append('../../code/xml_translate/')\n",
    "\n",
    "from xml_translate import XMLtrans"
   ]
  },
  {
   "cell_type": "markdown",
   "metadata": {},
   "source": [
    "## Step 2:\n",
    "\n",
    "Define the input and output paths. Creates the output directory if needed:"
   ]
  },
  {
   "cell_type": "code",
   "execution_count": 2,
   "metadata": {},
   "outputs": [],
   "source": [
    "import os\n",
    "input_path = \"../../data/sample_annotated_xml\"\n",
    "output_path = \"../../data/sample_annotated_xml_translated\"\n",
    "\n",
    "if not os.path.isdir(output_path): os.mkdir(output_path)\n"
   ]
  },
  {
   "cell_type": "markdown",
   "metadata": {},
   "source": [
    "Given the directory path, two lists containing the input and output files are created."
   ]
  },
  {
   "cell_type": "code",
   "execution_count": 3,
   "metadata": {},
   "outputs": [],
   "source": [
    "import glob\n",
    "\n",
    "input_files = glob.glob(input_path + \"/*.xml\")\n",
    "output_files = list(map(lambda x: x.replace(input_path, output_path), input_files))"
   ]
  },
  {
   "cell_type": "markdown",
   "metadata": {},
   "source": [
    "## Step 3:\n",
    "\n",
    "Loop through the input files. For each input, it creates a `XMLtrans` object and executes the `translate` and `save_output` methods."
   ]
  },
  {
   "cell_type": "code",
   "execution_count": 4,
   "metadata": {},
   "outputs": [],
   "source": [
    "for i, file in enumerate(input_files):\n",
    "    xml_translation = XMLtrans(file)\n",
    "    xml_translation.translate()\n",
    "    xml_translation.save_output(output_files[i], split = True)"
   ]
  },
  {
   "cell_type": "markdown",
   "metadata": {},
   "source": [
    "# Other options"
   ]
  },
  {
   "cell_type": "markdown",
   "metadata": {},
   "source": [
    "## Translate specific file\n",
    "\n",
    "In order to translate one file, just create the `XMLtrans` object with the input file path, execute the required methods, and use the `save_output` method with the output file path as a parameter."
   ]
  },
  {
   "cell_type": "code",
   "execution_count": 5,
   "metadata": {},
   "outputs": [],
   "source": [
    "%%script false --no-raise-error\n",
    "input_file = \"../../data/sample_annotated_xml/10605405_annotated.xml\"\n",
    "output_file = \"../../data/sample_annotated_xml/10605405_annotated_translated.xml\"\n",
    "\n",
    "xml_translation = XMLtrans(input_file)\n",
    "xml_translation.translate()\n",
    "xml_translation.save_output(output_file)"
   ]
  },
  {
   "cell_type": "markdown",
   "metadata": {},
   "source": [
    "## Use `xml_trasnlate.py` file directly\n",
    "\n",
    "The code file itself is prepared to work on their own given some parameters. In order to execute the script, run the following command:\n",
    "\n",
    "```bash\n",
    "python xml_translate.py [-h] (-i INPUT | -d INDIR) [-o OUTPUT]\n",
    "```\n",
    "\n",
    "You must pass one of the following arguments:\n",
    "\n",
    "* -i / --input: path to XML file to be translated.\n",
    "\n",
    "* -d / --indir: path to directory containing the XML files to be translated.\n",
    "\n",
    "Optionally, the output file/directory argument can be used to specify where should the translated files be stored. By default:\n",
    "\n",
    "* If only one file is provided, it will be saved in the same directory with the text `_translated` added to it.\n",
    "\n",
    "* If a directory is provided, it will create a new directory with the same name but adding `_translated` to it.\n",
    "\n",
    "An example of the command that will create the direcortory `sample_annotated_xml_translated`:\n",
    "\n",
    "```bash\n",
    "python xml_translate.py -d sample_annotated_xml\n",
    "```\n",
    "\n",
    "In `code/tests` folder, a file containing unittest can be found."
   ]
  },
  {
   "cell_type": "markdown",
   "metadata": {},
   "source": [
    "# Results\n",
    "\n",
    "Example of translation:\n",
    "\n",
    "<table>\n",
    "<tr>\n",
    "<th>XML Input</th>\n",
    "<th>Output file</th>\n",
    "</tr>\n",
    "<tr>\n",
    "<td>\n",
    "\n",
    "```xml\n",
    "<?xml version='1.0' encoding='utf-8'?>\n",
    "<collection xmlns:z=\"https://github.com/zbmed-semtec/whatizit-dictionary-ner/\">\n",
    "<document>\n",
    "   <id>\n",
    "      18366698\n",
    "   </id>\n",
    "   <passage>\n",
    "      <infon key=\"type\">\n",
    "         title\n",
    "      </infon>\n",
    "      <offset>\n",
    "         0\n",
    "      </offset>\n",
    "      <text>\n",
    "         The <z:mesh cui=\"C0243174, C0042153, C0038209\"\n",
    "         id=\"http://purl.bioontology.org/ontology/MESH/Q000706\"\n",
    "         semantics=\"http://purl.bioontology.org/ontology/STY/T169,\n",
    "         http://purl.bioontology.org/ontology/STY/T081\">use</z:mesh>\n",
    "         of biomedicine, complementary and <z:mesh\n",
    "         cui=\"C1148474, C0949216, C0002346, C0936077\"\n",
    "         id=\"http://purl.bioontology.org/ontology/MESH/D000529\"\n",
    "         semantics=\"http://purl.bioontology.org/ontology/STY/T091,\n",
    "         http://purl.bioontology.org/ontology/STY/T061\">alternative\n",
    "         medicine</z:mesh>, and <z:mesh cui=\"C0025130,\n",
    "         C0242390, C0025127, C0025131, C0016419, C0015034,\n",
    "         C0242389\"\n",
    "         id=\"http://purl.bioontology.org/ontology/MESH/D008519\"\n",
    "         semantics=\"http://purl.bioontology.org/ontology/STY/T058,\n",
    "         http://purl.bioontology.org/ontology/STY/T091,\n",
    "         http://purl.bioontology.org/ontology/STY/T061\">ethnomedicine</z:mesh>\n",
    "         for the <z:mesh cui=\"C0039798\"\n",
    "         id=\"http://purl.bioontology.org/ontology/MESH/Q000628\"\n",
    "         semantics=\"http://purl.bioontology.org/ontology/STY/T169\">treatment</z:mesh>\n",
    "         of <z:mesh cui=\"C0014544, C0751111, C0236018,\n",
    "         C0086237\"\n",
    "         id=\"http://purl.bioontology.org/ontology/MESH/D004827\"\n",
    "         semantics=\"http://purl.bioontology.org/ontology/STY/T047,\n",
    "         http://purl.bioontology.org/ontology/STY/T033\">epilepsy</z:mesh>\n",
    "         among people of South <z:mesh cui=\"C0078988,\n",
    "         C1553322, C1553323, C1556095, C1257906, C1561452,\n",
    "         C0152035, C0337910, C0337892, C1556094\"\n",
    "         id=\"http://purl.bioontology.org/ontology/MESH/D044466\"\n",
    "         semantics=\"http://purl.bioontology.org/ontology/STY/T098\">Asian</z:mesh>\n",
    "         origin in the UK.\n",
    "      </text>\n",
    "   </passage>\n",
    "</document>\n",
    "</collection>\n",
    "```\n",
    "\n",
    "</td>\n",
    "<td width=\"50%\">\n",
    "The MeSHQ000706 of biomedicine, complementary and MeSHD000529, and MeSHD008519 for the MeSHQ000628 of MeSHD004827 among people of South MeSHD044466 origin in the UK.\n",
    "</td>\n",
    "</tr>\n",
    "</table>"
   ]
  },
  {
   "cell_type": "markdown",
   "metadata": {},
   "source": [
    "# Decision notes\n",
    "\n",
    "## Code strategy:\n",
    "\n",
    "1. Using `xml.etree` library, parse the input XML file to an object of that library.\n",
    "\n",
    "2. Find all the `z:mesh` tags inside the document and creates a dictionary that matches the tagged word to its MeSH ID (extracted from the tag using regular expressions). The objective is to have a dictionary to later translate all read texts.\n",
    "\n",
    "3. Find all `passage` tags in the document. For each tag:\n",
    "\n",
    "    3.1 Read the description found in `infon` tag.\n",
    "    \n",
    "    3.2 Find the tag `text` and iter through every text found in them. It checks if the text is in the dictionary previously created and, if matched, replace it by the MeSH ID.\n",
    "\n",
    "    3.3 Creates a named list with the description as key and the translated text as value.\n",
    "    \n",
    "4. Joins all the translated `passage` found and saves them in plain text. It can also be separated by the descriptions found. \n",
    "\n",
    "## Decisions:\n",
    "\n",
    "* I use the `xml.etree` library as it is one the most used XML parsers and provided all the functionality required. I also tried using regular expression directly on the text itself, but it proved to be less efficient and harder to handle errors.\n",
    "\n",
    "* Why to create a dictionary? Mainly for two reasons:\n",
    "\n",
    "    1. To validate the annotated XML files since every \"concept\" should have the same MeSH ID. By having a dictionary, I can ensure that the `z:mesh` tags are consistent with each other. \n",
    "    \n",
    "    2. To facilitate the text translation. To avoid using regular expressions in the text to find the tags, I combined the functionality of the method `itertext()` from `xml.etree` and the dictionary to find a less prone to error solutions.\n",
    "\n",
    "* The code does not assume the number of `passage` tags found in them, but it assumes that they all have an `infon` tag (to describe the passage) and a `text` tag which contains the text itself. "
   ]
  },
  {
   "cell_type": "markdown",
   "metadata": {},
   "source": [
    "# TODO \n",
    "\n",
    "* Improve error handling process. At the moment, if the XML file does not match the necessary structure, there is no indication to where the error is or how to deal with it.\n",
    "\n",
    "* Consider adding multiprocessing. There are around 200.000 documents, which takes around a minute and a half to execute. Multiprocessing functionality could be useful since the translation process is done one file at a time and it should be easily parallelizable."
   ]
  },
  {
   "cell_type": "markdown",
   "metadata": {},
   "source": [
    "**REMOVE THIS LINE BEFORE FINAL VERSION COMMIT**"
   ]
  },
  {
   "cell_type": "code",
   "execution_count": 7,
   "metadata": {},
   "outputs": [
    {
     "name": "stdout",
     "output_type": "stream",
     "text": [
      "[NbConvertApp] Converting notebook tutorial_xml_translate.ipynb to markdown\n",
      "[NbConvertApp] Writing 8067 bytes to README.md\n"
     ]
    }
   ],
   "source": [
    "!jupyter nbconvert tutorial_xml_translate.ipynb --to markdown --output README.md"
   ]
  }
 ],
 "metadata": {
  "interpreter": {
   "hash": "902ab70f0cd0f11189f4f4c93e73d750b8b25ffc48666e69e012efe9922b8b8f"
  },
  "kernelspec": {
   "display_name": "ZB-MED",
   "language": "python",
   "name": "zb-med"
  },
  "language_info": {
   "codemirror_mode": {
    "name": "ipython",
    "version": 3
   },
   "file_extension": ".py",
   "mimetype": "text/x-python",
   "name": "python",
   "nbconvert_exporter": "python",
   "pygments_lexer": "ipython3",
   "version": "3.8.10"
  },
  "toc-autonumbering": false
 },
 "nbformat": 4,
 "nbformat_minor": 4
}
