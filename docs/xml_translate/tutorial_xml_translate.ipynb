{
 "cells": [
  {
   "cell_type": "markdown",
   "metadata": {},
   "source": [
    "# Annotated XML files to plain text\n",
    "\n",
    "This tutorial aims to explain how to translate from annotated XML files obtained from [Whatizit](https://github.com/zbmed-semtec/whatizit-dictionary-ner) to plain text. The translation converts the tagged concepts by the dictionary to its corresponding MeSH ID."
   ]
  },
  {
   "cell_type": "markdown",
   "metadata": {},
   "source": [
    "# Prerequisites\n",
    "\n",
    "1. Annotated XML files. On how to obtain them, please follow instructions [here](https://github.com/zbmed-semtec/whatizit-dictionary-ner/tree/main/docs)."
   ]
  },
  {
   "cell_type": "markdown",
   "metadata": {},
   "source": [
    "# Steps\n",
    "\n",
    "## Step 1:\n",
    "\n",
    "Import the necessary class to process the files:"
   ]
  },
  {
   "cell_type": "code",
   "execution_count": 1,
   "metadata": {},
   "outputs": [],
   "source": [
    "import sys\n",
    "sys.path.append('../../code/xml_translate/')\n",
    "\n",
    "from xml_translate import XMLtrans, translate_pipeline"
   ]
  },
  {
   "cell_type": "markdown",
   "metadata": {},
   "source": [
    "## Step 2:\n",
    "\n",
    "Define the input and output paths. Creates the output directory if needed. We will also export the articles to a .TSV file, so indicate the path as well."
   ]
  },
  {
   "cell_type": "code",
   "execution_count": 2,
   "metadata": {},
   "outputs": [],
   "source": [
    "import os\n",
    "input_path = \"../../data/sample_annotated_xml\"\n",
    "output_path = \"../../data/sample_annotated_xml_translated\"\n",
    "output_tsv = \"../../data/sample_annotated_xml.tsv\"\n",
    "\n",
    "if not os.path.isdir(output_path): os.mkdir(output_path)"
   ]
  },
  {
   "cell_type": "markdown",
   "metadata": {},
   "source": [
    "Given the directory path, two lists containing the input and output files are created."
   ]
  },
  {
   "cell_type": "code",
   "execution_count": 3,
   "metadata": {},
   "outputs": [],
   "source": [
    "import glob\n",
    "\n",
    "input_files = glob.glob(input_path + \"/*.xml\")\n",
    "output_files = list(map(lambda x: x.replace(input_path, output_path), input_files))"
   ]
  },
  {
   "cell_type": "markdown",
   "metadata": {},
   "source": [
    "## Step 3:\n",
    "\n",
    "Loop through the input files. For each input, it creates a `XMLtrans` object and executes the `translate` and `save_output` methods."
   ]
  },
  {
   "cell_type": "code",
   "execution_count": 4,
   "metadata": {},
   "outputs": [],
   "source": [
    "for i, file in enumerate(input_files):\n",
    "    xml_translation = XMLtrans(file)\n",
    "    xml_translation.translate()\n",
    "    xml_translation.save_xml(output_files[i])"
   ]
  },
  {
   "cell_type": "markdown",
   "metadata": {},
   "source": [
    "To export every XML file to a single TSV, run the pipeline function:"
   ]
  },
  {
   "cell_type": "code",
   "execution_count": 5,
   "metadata": {},
   "outputs": [
    {
     "data": {
      "text/html": [
       "<div>\n",
       "<style scoped>\n",
       "    .dataframe tbody tr th:only-of-type {\n",
       "        vertical-align: middle;\n",
       "    }\n",
       "\n",
       "    .dataframe tbody tr th {\n",
       "        vertical-align: top;\n",
       "    }\n",
       "\n",
       "    .dataframe thead th {\n",
       "        text-align: right;\n",
       "    }\n",
       "</style>\n",
       "<table border=\"1\" class=\"dataframe\">\n",
       "  <thead>\n",
       "    <tr style=\"text-align: right;\">\n",
       "      <th></th>\n",
       "      <th>PMID</th>\n",
       "      <th>title</th>\n",
       "      <th>abstract</th>\n",
       "    </tr>\n",
       "  </thead>\n",
       "  <tbody>\n",
       "    <tr>\n",
       "      <th>0</th>\n",
       "      <td>18394048</td>\n",
       "      <td>Effect of MeSHD000077287 on MeSHD000071080: a ...</td>\n",
       "      <td>BACKGROUND AND PURPOSE: We studied the effect ...</td>\n",
       "    </tr>\n",
       "    <tr>\n",
       "      <th>1</th>\n",
       "      <td>18363035</td>\n",
       "      <td>A MeSHD016678-wide MeSHD046228 reveals anti-in...</td>\n",
       "      <td>OBJECTIVE: Paeony root has long been used for ...</td>\n",
       "    </tr>\n",
       "    <tr>\n",
       "      <th>2</th>\n",
       "      <td>18366698</td>\n",
       "      <td>The MeSHQ000706 of biomedicine, complementary ...</td>\n",
       "      <td>BACKGROUND: Studies have shown that a signific...</td>\n",
       "    </tr>\n",
       "    <tr>\n",
       "      <th>3</th>\n",
       "      <td>10627593</td>\n",
       "      <td>Presynaptic Ca(2+) influx at a MeSHD051379 cen...</td>\n",
       "      <td>Genetic alterations in Ca(2+) channel subunits...</td>\n",
       "    </tr>\n",
       "    <tr>\n",
       "      <th>4</th>\n",
       "      <td>10642555</td>\n",
       "      <td>Rad6-dependent MeSHD054875 of MeSHD006657 H2B ...</td>\n",
       "      <td>Although ubiquitinated MeSHD006657 are present...</td>\n",
       "    </tr>\n",
       "    <tr>\n",
       "      <th>5</th>\n",
       "      <td>10609551</td>\n",
       "      <td>Individual variation in the expression profile...</td>\n",
       "      <td>MeSHD009538 evokes dose-dependent and often va...</td>\n",
       "    </tr>\n",
       "    <tr>\n",
       "      <th>6</th>\n",
       "      <td>18401010</td>\n",
       "      <td>MeSHD006224 MeSHD013075: MeSHD012380 of MeSHD0...</td>\n",
       "      <td>Recently, we demonstrated that MeSHD019289 MeS...</td>\n",
       "    </tr>\n",
       "    <tr>\n",
       "      <th>7</th>\n",
       "      <td>18370348</td>\n",
       "      <td>[MeSHD009369 search with MeSHD004058-weighted ...</td>\n",
       "      <td>PURPOSE: Assessment of fat-suppressing MeSHD00...</td>\n",
       "    </tr>\n",
       "    <tr>\n",
       "      <th>8</th>\n",
       "      <td>10605405</td>\n",
       "      <td>Ki-67, oestrogen receptor, and MeSHD011980 MeS...</td>\n",
       "      <td>AIM: To examine proliferative activity using t...</td>\n",
       "    </tr>\n",
       "    <tr>\n",
       "      <th>9</th>\n",
       "      <td>10629618</td>\n",
       "      <td>MeSHD006360 associated with MeSHD004260 MeSHD0...</td>\n",
       "      <td>Two MeSHD004798 of MeSHD004260 (BER), MeSHD051...</td>\n",
       "    </tr>\n",
       "    <tr>\n",
       "      <th>10</th>\n",
       "      <td>18369322</td>\n",
       "      <td>Absence of retroviral vector-mediated transfor...</td>\n",
       "      <td>There is considerable concern regarding the tr...</td>\n",
       "    </tr>\n",
       "    <tr>\n",
       "      <th>11</th>\n",
       "      <td>10624815</td>\n",
       "      <td>MeSHD001053 E polymorphisms and MeSHD010300.</td>\n",
       "      <td>The MeSHD001053 E (APOE) MeSHD011110 has been ...</td>\n",
       "    </tr>\n",
       "    <tr>\n",
       "      <th>12</th>\n",
       "      <td>10650943</td>\n",
       "      <td>Potential involvement of FRS2 in MeSHD007328 s...</td>\n",
       "      <td>Shp-2 is implicated in several MeSHD020794 sig...</td>\n",
       "    </tr>\n",
       "    <tr>\n",
       "      <th>13</th>\n",
       "      <td>18393066</td>\n",
       "      <td>Producing MeSHD056804 using whole-MeSHD002477 ...</td>\n",
       "      <td>This MeSHD012106 examined the effect of using ...</td>\n",
       "    </tr>\n",
       "    <tr>\n",
       "      <th>14</th>\n",
       "      <td>18371110</td>\n",
       "      <td>MeSHD001853 trephine MeSHQ000033 and immunohis...</td>\n",
       "      <td>Chronic myelomonocytic leukaemia (CMML) is a c...</td>\n",
       "    </tr>\n",
       "    <tr>\n",
       "      <th>15</th>\n",
       "      <td>10648631</td>\n",
       "      <td>Mutational MeSHQ000032 of the highly conserved...</td>\n",
       "      <td>We have suggested previously that both the neg...</td>\n",
       "    </tr>\n",
       "    <tr>\n",
       "      <th>16</th>\n",
       "      <td>10606228</td>\n",
       "      <td>Spontaneous and MeSHD009153-induced transforma...</td>\n",
       "      <td>Loss of MeSHQ000502 of MeSHD053843 (MMR) MeSHD...</td>\n",
       "    </tr>\n",
       "    <tr>\n",
       "      <th>17</th>\n",
       "      <td>10671540</td>\n",
       "      <td>The regulatory beta subunit of MeSHD047390 med...</td>\n",
       "      <td>MeSHD047390 is a tetrameric MeSHD004798 compos...</td>\n",
       "    </tr>\n",
       "    <tr>\n",
       "      <th>18</th>\n",
       "      <td>18366613</td>\n",
       "      <td>A MeSHD002678 MeSHD000069550-based MeSHD008722...</td>\n",
       "      <td>BACKGROUND: The MeSHD011379 for many MeSHD0093...</td>\n",
       "    </tr>\n",
       "    <tr>\n",
       "      <th>19</th>\n",
       "      <td>18381570</td>\n",
       "      <td>BRAFV600E MeSHD009154 is associated with prefe...</td>\n",
       "      <td>CONTEXT: Mutually exclusive MeSHD009154 of RET...</td>\n",
       "    </tr>\n",
       "  </tbody>\n",
       "</table>\n",
       "</div>"
      ],
      "text/plain": [
       "        PMID                                              title  \\\n",
       "0   18394048  Effect of MeSHD000077287 on MeSHD000071080: a ...   \n",
       "1   18363035  A MeSHD016678-wide MeSHD046228 reveals anti-in...   \n",
       "2   18366698  The MeSHQ000706 of biomedicine, complementary ...   \n",
       "3   10627593  Presynaptic Ca(2+) influx at a MeSHD051379 cen...   \n",
       "4   10642555  Rad6-dependent MeSHD054875 of MeSHD006657 H2B ...   \n",
       "5   10609551  Individual variation in the expression profile...   \n",
       "6   18401010  MeSHD006224 MeSHD013075: MeSHD012380 of MeSHD0...   \n",
       "7   18370348  [MeSHD009369 search with MeSHD004058-weighted ...   \n",
       "8   10605405  Ki-67, oestrogen receptor, and MeSHD011980 MeS...   \n",
       "9   10629618  MeSHD006360 associated with MeSHD004260 MeSHD0...   \n",
       "10  18369322  Absence of retroviral vector-mediated transfor...   \n",
       "11  10624815       MeSHD001053 E polymorphisms and MeSHD010300.   \n",
       "12  10650943  Potential involvement of FRS2 in MeSHD007328 s...   \n",
       "13  18393066  Producing MeSHD056804 using whole-MeSHD002477 ...   \n",
       "14  18371110  MeSHD001853 trephine MeSHQ000033 and immunohis...   \n",
       "15  10648631  Mutational MeSHQ000032 of the highly conserved...   \n",
       "16  10606228  Spontaneous and MeSHD009153-induced transforma...   \n",
       "17  10671540  The regulatory beta subunit of MeSHD047390 med...   \n",
       "18  18366613  A MeSHD002678 MeSHD000069550-based MeSHD008722...   \n",
       "19  18381570  BRAFV600E MeSHD009154 is associated with prefe...   \n",
       "\n",
       "                                             abstract  \n",
       "0   BACKGROUND AND PURPOSE: We studied the effect ...  \n",
       "1   OBJECTIVE: Paeony root has long been used for ...  \n",
       "2   BACKGROUND: Studies have shown that a signific...  \n",
       "3   Genetic alterations in Ca(2+) channel subunits...  \n",
       "4   Although ubiquitinated MeSHD006657 are present...  \n",
       "5   MeSHD009538 evokes dose-dependent and often va...  \n",
       "6   Recently, we demonstrated that MeSHD019289 MeS...  \n",
       "7   PURPOSE: Assessment of fat-suppressing MeSHD00...  \n",
       "8   AIM: To examine proliferative activity using t...  \n",
       "9   Two MeSHD004798 of MeSHD004260 (BER), MeSHD051...  \n",
       "10  There is considerable concern regarding the tr...  \n",
       "11  The MeSHD001053 E (APOE) MeSHD011110 has been ...  \n",
       "12  Shp-2 is implicated in several MeSHD020794 sig...  \n",
       "13  This MeSHD012106 examined the effect of using ...  \n",
       "14  Chronic myelomonocytic leukaemia (CMML) is a c...  \n",
       "15  We have suggested previously that both the neg...  \n",
       "16  Loss of MeSHQ000502 of MeSHD053843 (MMR) MeSHD...  \n",
       "17  MeSHD047390 is a tetrameric MeSHD004798 compos...  \n",
       "18  BACKGROUND: The MeSHD011379 for many MeSHD0093...  \n",
       "19  CONTEXT: Mutually exclusive MeSHD009154 of RET...  "
      ]
     },
     "execution_count": 5,
     "metadata": {},
     "output_type": "execute_result"
    }
   ],
   "source": [
    "translate_pipeline(input_files, output_tsv)"
   ]
  },
  {
   "cell_type": "markdown",
   "metadata": {},
   "source": [
    "# Other options"
   ]
  },
  {
   "cell_type": "markdown",
   "metadata": {},
   "source": [
    "## Translate specific file\n",
    "\n",
    "In order to translate one file, just create the `XMLtrans` object with the input file path, execute the required methods, and use the `save_xml` method with the output file path as a parameter. It is also possible to export to a plain text file by executing the `save_txt` method."
   ]
  },
  {
   "cell_type": "code",
   "execution_count": 6,
   "metadata": {},
   "outputs": [],
   "source": [
    "%%script false --no-raise-error\n",
    "input_file = \"../../data/sample_annotated_xml/10605405_annotated.xml\"\n",
    "output_file = \"../../data/sample_annotated_xml/10605405_annotated_translated.xml\"\n",
    "\n",
    "xml_translation = XMLtrans(input_file)\n",
    "xml_translation.translate()\n",
    "xml_translation.save_xml(output_file)\n",
    "xml_translation.save_txt(output_file, split = True) # The split argument indicates whether to differentiate title and abstract."
   ]
  },
  {
   "cell_type": "markdown",
   "metadata": {},
   "source": [
    "## Use `xml_translatepython.py` file directly\n",
    "\n",
    "The code file itself is prepared to work on their own given some parameters. In order to execute the script, run the following command:\n",
    "\n",
    "```bash\n",
    "python xml_translate.py [-h] (-i INPUT | -d INDIR) [-o OUTPUT]\n",
    "```\n",
    "\n",
    "You must pass one of the following arguments:\n",
    "\n",
    "* -i / --input: path to XML file to be translated.\n",
    "\n",
    "* -d / --indir: path to directory containing the XML files to be translated.\n",
    "\n",
    "Optionally, the output file/directory argument can be used to specify where should the translated files be stored. By default:\n",
    "\n",
    "* If only one file is provided, it will be saved in the same directory with the text `_translated` added to it.\n",
    "\n",
    "* If a directory is provided, it will create a new directory with the same name but adding `_translated` to it.\n",
    "\n",
    "If you wish to output to a .TSV file, set the following argument to 1:\n",
    "\n",
    "* --tsv: default 0\n",
    "\n",
    "An example of the command that will create the directory  `sample_annotated_xml_translated`:\n",
    "\n",
    "```bash\n",
    "python xml_translate.py -d sample_annotated_xml\n",
    "```\n",
    "\n",
    "In the folder `code/tests`, a file containing unittest can be found."
   ]
  },
  {
   "cell_type": "markdown",
   "metadata": {},
   "source": [
    "# Results\n",
    "\n",
    "Example of translation:\n",
    "\n",
    "<table>\n",
    "<tr>\n",
    "<th>XML Input</th>\n",
    "<th>Output file</th>\n",
    "</tr>\n",
    "<tr>\n",
    "<td>\n",
    "\n",
    "```xml\n",
    "<?xml version='1.0' encoding='utf-8'?>\n",
    "<collection xmlns:z=\"https://github.com/zbmed-semtec/whatizit-dictionary-ner/\">\n",
    "<document>\n",
    "   <id>\n",
    "      18366698\n",
    "   </id>\n",
    "   <passage>\n",
    "      <infon key=\"type\">\n",
    "         title\n",
    "      </infon>\n",
    "      <offset>\n",
    "         0\n",
    "      </offset>\n",
    "      <text>\n",
    "         The <z:mesh cui=\"C0243174, C0042153, C0038209\"\n",
    "         id=\"http://purl.bioontology.org/ontology/MESH/Q000706\"\n",
    "         semantics=\"http://purl.bioontology.org/ontology/STY/T169,\n",
    "         http://purl.bioontology.org/ontology/STY/T081\">use</z:mesh>\n",
    "         of biomedicine, complementary and <z:mesh\n",
    "         cui=\"C1148474, C0949216, C0002346, C0936077\"\n",
    "         id=\"http://purl.bioontology.org/ontology/MESH/D000529\"\n",
    "         semantics=\"http://purl.bioontology.org/ontology/STY/T091,\n",
    "         http://purl.bioontology.org/ontology/STY/T061\">alternative\n",
    "         medicine</z:mesh>, and <z:mesh cui=\"C0025130,\n",
    "         C0242390, C0025127, C0025131, C0016419, C0015034,\n",
    "         C0242389\"\n",
    "         id=\"http://purl.bioontology.org/ontology/MESH/D008519\"\n",
    "         semantics=\"http://purl.bioontology.org/ontology/STY/T058,\n",
    "         http://purl.bioontology.org/ontology/STY/T091,\n",
    "         http://purl.bioontology.org/ontology/STY/T061\">ethnomedicine</z:mesh>\n",
    "         for the <z:mesh cui=\"C0039798\"\n",
    "         id=\"http://purl.bioontology.org/ontology/MESH/Q000628\"\n",
    "         semantics=\"http://purl.bioontology.org/ontology/STY/T169\">treatment</z:mesh>\n",
    "         of <z:mesh cui=\"C0014544, C0751111, C0236018,\n",
    "         C0086237\"\n",
    "         id=\"http://purl.bioontology.org/ontology/MESH/D004827\"\n",
    "         semantics=\"http://purl.bioontology.org/ontology/STY/T047,\n",
    "         http://purl.bioontology.org/ontology/STY/T033\">epilepsy</z:mesh>\n",
    "         among people of South <z:mesh cui=\"C0078988,\n",
    "         C1553322, C1553323, C1556095, C1257906, C1561452,\n",
    "         C0152035, C0337910, C0337892, C1556094\"\n",
    "         id=\"http://purl.bioontology.org/ontology/MESH/D044466\"\n",
    "         semantics=\"http://purl.bioontology.org/ontology/STY/T098\">Asian</z:mesh>\n",
    "         origin in the UK.\n",
    "      </text>\n",
    "   </passage>\n",
    "</document>\n",
    "</collection>\n",
    "```\n",
    "\n",
    "</td>\n",
    "<td width=\"50%\">\n",
    "The MeSHQ000706 of biomedicine, complementary and MeSHD000529, and MeSHD008519 for the MeSHQ000628 of MeSHD004827 among people of South MeSHD044466 origin in the UK.\n",
    "</td>\n",
    "</tr>\n",
    "</table>"
   ]
  },
  {
   "cell_type": "markdown",
   "metadata": {
    "tags": []
   },
   "source": [
    "# Decision notes\n",
    "\n",
    "## Code strategy:\n",
    "\n",
    "1. Using `xml.etree` library, parse the input XML file to an object of that library.\n",
    "\n",
    "2. Find all the `z:mesh` tags inside the document and creates a dictionary that matches the tagged word to its MeSH ID (extracted from the tag using regular expressions). The objective is to have a dictionary to later translate all read texts.\n",
    "\n",
    "3. Find all `passage` tags in the document. For each tag:\n",
    "\n",
    "    3.1 Read the description found in `infon` tag.\n",
    "    \n",
    "    3.2 Find the tag `text` and iter through every text found in them. It checks if the text is in the dictionary previously created and, if matched, replace it by the MeSH ID.\n",
    "\n",
    "    3.3 Creates a named list with the description as key and the translated text as value.\n",
    "    \n",
    "4. Joins all the translated `passage` found and saves them in plain text. It can also be separated by the descriptions found. \n",
    "\n",
    "## Decisions:\n",
    "\n",
    "* I use the `xml.etree` library as it is one of the most used XML parsers and provided all the functionality required. I also tried using regular expression directly on the text itself, but it proved to be less efficient and harder to handle errors.\n",
    "\n",
    "* Why to create a dictionary? Mainly for two reasons:\n",
    "\n",
    "    1. To validate the annotated XML files, since every \"concept\" should have the same MeSH ID. By having a dictionary, I can ensure that the `z:mesh` tags are consistent with each other. \n",
    "    \n",
    "    2. To facilitate the text translation. To avoid using regular expressions in the text to find the tags, I combined the functionality of the method `itertext()` from `xml.etree` and the dictionary to find a less prone to error solutions.\n",
    "\n",
    "* The code does not assume the number of `passage` tags found in them, but it assumes that they all have an `infon` tag (to describe the passage) and a `text` tag which contains the text itself. "
   ]
  },
  {
   "cell_type": "markdown",
   "metadata": {},
   "source": [
    "# TODO \n",
    "\n",
    "* Improve error handling process. At the moment, if the XML file does not match the necessary structure, there is no indication to where the error is or how to deal with it.\n",
    "\n",
    "* Consider adding multiprocessing. There are around 200.000 documents, which takes around a minute and a half to execute. Multiprocessing functionality could be useful since the translation process is done one file at a time, and it should be easily parallelizable."
   ]
  },
  {
   "cell_type": "markdown",
   "metadata": {},
   "source": [
    "**REMOVE THIS LINE BEFORE FINAL VERSION COMMIT**"
   ]
  },
  {
   "cell_type": "code",
   "execution_count": 8,
   "metadata": {},
   "outputs": [
    {
     "name": "stdout",
     "output_type": "stream",
     "text": [
      "[NbConvertApp] Converting notebook tutorial_xml_translate.ipynb to markdown\n",
      "[NbConvertApp] Writing 12911 bytes to README.md\n"
     ]
    }
   ],
   "source": [
    "!jupyter nbconvert tutorial_xml_translate.ipynb --to markdown --output README.md"
   ]
  }
 ],
 "metadata": {
  "interpreter": {
   "hash": "902ab70f0cd0f11189f4f4c93e73d750b8b25ffc48666e69e012efe9922b8b8f"
  },
  "kernelspec": {
   "display_name": "Python 3.8.10 ('ZB-MED')",
   "language": "python",
   "name": "python3"
  },
  "language_info": {
   "codemirror_mode": {
    "name": "ipython",
    "version": 3
   },
   "file_extension": ".py",
   "mimetype": "text/x-python",
   "name": "python",
   "nbconvert_exporter": "python",
   "pygments_lexer": "ipython3",
   "version": "3.8.10"
  },
  "toc-autonumbering": false
 },
 "nbformat": 4,
 "nbformat_minor": 4
}
