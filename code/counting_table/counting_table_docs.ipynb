{
 "cells": [
  {
   "cell_type": "markdown",
   "metadata": {},
   "source": [
    "# Generate Counting Table - v0.1\n",
    "\n",
    "**These notes are for testing and by no means are definitive**"
   ]
  },
  {
   "cell_type": "markdown",
   "metadata": {},
   "source": [
    "# Steps\n",
    "\n",
    "## Step 1:\n",
    "\n",
    "Import the necessary classes to generate the table:"
   ]
  },
  {
   "cell_type": "code",
   "execution_count": 1,
   "metadata": {},
   "outputs": [],
   "source": [
    "import generate_counting_table as ct"
   ]
  },
  {
   "cell_type": "markdown",
   "metadata": {},
   "source": [
    "## Step 2:\n",
    "\n",
    "Load relish_relevance_matrix.csv\n",
    "It can be downloaded here: https://github.com/zbmed-semtec/medline-preprocessing/blob/main/data/Relevance_Matrices/relish_relevance_matrix.csv"
   ]
  },
  {
   "cell_type": "code",
   "execution_count": 2,
   "metadata": {},
   "outputs": [],
   "source": [
    "input_path = \"relish_relevance_matrix.csv\"\n",
    "data = ct.load_relevance_matrix(input_path)"
   ]
  },
  {
   "cell_type": "markdown",
   "metadata": {},
   "source": [
    "If the file does not contain a forth column matrix (corresponding to the calculated Cosine Similarities), I added a function to simulate some random results from normal distributions:"
   ]
  },
  {
   "cell_type": "code",
   "execution_count": 3,
   "metadata": {},
   "outputs": [],
   "source": [
    "data = ct.random_cosine_similarities(data)"
   ]
  },
  {
   "cell_type": "markdown",
   "metadata": {},
   "source": [
    "## Step 3:\n",
    "\n",
    "Generate the counting table:"
   ]
  },
  {
   "cell_type": "code",
   "execution_count": 4,
   "metadata": {},
   "outputs": [
    {
     "name": "stdout",
     "output_type": "stream",
     "text": [
      "     Cosine Interval  2s  1s   0s\n",
      "0               0.00   0   0  259\n",
      "1               0.01   0   0   52\n",
      "2               0.02   0   0   64\n",
      "3               0.03   0   0   91\n",
      "4               0.04   0   0   87\n",
      "..               ...  ..  ..  ...\n",
      "96              0.96   0   4    1\n",
      "97              0.97   0   1    0\n",
      "98              0.98   0   2    1\n",
      "99              0.99   0   1    1\n",
      "100             1.00   0   2    1\n",
      "\n",
      "[101 rows x 4 columns]\n"
     ]
    }
   ],
   "source": [
    "counting_table = ct.create_counting_table(data)\n",
    "\n",
    "print(counting_table)"
   ]
  },
  {
   "cell_type": "markdown",
   "metadata": {},
   "source": [
    "Additionally, you can save it in a .CSV file:"
   ]
  },
  {
   "cell_type": "code",
   "execution_count": 5,
   "metadata": {},
   "outputs": [],
   "source": [
    "output_path = \"counting_table.csv\"\n",
    "ct.save_table(counting_table, output_path)"
   ]
  },
  {
   "cell_type": "markdown",
   "metadata": {},
   "source": [
    "# Decision notes\n",
    "\n",
    "**These notes are for testing and by no means are definitive**\n",
    "\n",
    "## Code strategy:\n",
    "\n",
    "1. Load the RELISH relevance matrix. Since this is for testing purposes, I created a function to randomly generate cosine similarities. The random generations can be modified in the \"random_cosine_similarities()\" function.\n",
    "\n",
    "    1.1 To randomize the values, I used a normal distribution capped at [0, 1]. For each \"Relevance Assessment\" value, a different distribution is used. For example, a relevance of 0 will use a distribution with a lower mean but larger variance than for a relevance of two. In general, this process is not relevance since this is just for testing purposes.\n",
    "\n",
    "2. To count the values for each cosine similarity, I loop through every possible value from 0 to 1 in 0.01 intervals. For each value:\n",
    "\n",
    "    2.1 Use function \"count_entries()\" to count the entries.\n",
    "\n",
    "    2.2 Write the counts for each relevance in the corresponding column of the counting table.\n"
   ]
  },
  {
   "cell_type": "markdown",
   "metadata": {},
   "source": [
    "Additionally, you can save it in .CSV format:"
   ]
  },
  {
   "cell_type": "code",
   "execution_count": 6,
   "metadata": {},
   "outputs": [],
   "source": [
    "output_path = \"counting_table.csv\"\n",
    "ct.save_table(counting_table, output_path)"
   ]
  }
 ],
 "metadata": {
  "kernelspec": {
   "display_name": "Python 3.8.10 ('ZB-MED')",
   "language": "python",
   "name": "python3"
  },
  "language_info": {
   "codemirror_mode": {
    "name": "ipython",
    "version": 3
   },
   "file_extension": ".py",
   "mimetype": "text/x-python",
   "name": "python",
   "nbconvert_exporter": "python",
   "pygments_lexer": "ipython3",
   "version": "3.8.10"
  },
  "orig_nbformat": 4,
  "vscode": {
   "interpreter": {
    "hash": "902ab70f0cd0f11189f4f4c93e73d750b8b25ffc48666e69e012efe9922b8b8f"
   }
  }
 },
 "nbformat": 4,
 "nbformat_minor": 2
}
